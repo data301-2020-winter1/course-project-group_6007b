{
 "cells": [
  {
   "cell_type": "markdown",
   "metadata": {},
   "source": [
    "categorical type:"
   ]
  },
  {
   "cell_type": "code",
   "execution_count": 3,
   "metadata": {},
   "outputs": [],
   "source": [
    "categoryId = {\n",
    "      1:'Film & Animation',\n",
    "      2:'Autos & Vehicles',\n",
    "      10:'Music',\n",
    "      15:'Pets & Animals',\n",
    "      17:'Sports',\n",
    "      19:'Travel & Events', \n",
    "      20:'Gaming',\n",
    "      21:'Videoblogging',\n",
    "      22: \"People & Blogs\",\n",
    "      23: \"Comedy\", \n",
    "      24: \"Entertainment\",\n",
    "      25: \"News & Politics\", \n",
    "      26: \"Howto & Style\", \n",
    "      27: \"Education\", \n",
    "      28: \"Science & Technology\",\n",
    "    }"
   ]
  },
  {
   "cell_type": "code",
   "execution_count": null,
   "metadata": {},
   "outputs": [],
   "source": []
  }
 ],
 "metadata": {
  "kernelspec": {
   "display_name": "Python 3",
   "language": "python",
   "name": "python3"
  },
  "language_info": {
   "codemirror_mode": {
    "name": "ipython",
    "version": 3
   },
   "file_extension": ".py",
   "mimetype": "text/x-python",
   "name": "python",
   "nbconvert_exporter": "python",
   "pygments_lexer": "ipython3",
   "version": "3.8.3"
  }
 },
 "nbformat": 4,
 "nbformat_minor": 4
}

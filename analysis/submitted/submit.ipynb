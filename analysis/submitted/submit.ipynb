{
 "cells": [
  {
   "cell_type": "markdown",
   "metadata": {},
   "source": [
    "## Load and clean the data"
   ]
  },
  {
   "cell_type": "code",
   "execution_count": 1,
   "metadata": {},
   "outputs": [
    {
     "name": "stderr",
     "output_type": "stream",
     "text": [
      "/opt/miniconda3/lib/python3.8/site-packages/pandas/core/ops/array_ops.py:253: FutureWarning: elementwise comparison failed; returning scalar instead, but in the future will perform elementwise comparison\n",
      "  res_values = method(rvalues)\n"
     ]
    }
   ],
   "source": [
    "data = ['CA','GB','US']\n",
    "\n",
    "from scripts import project_functions # This is called a relative import\n",
    "df = project_functions.load_and_process(data)\n"
   ]
  },
  {
   "cell_type": "code",
   "execution_count": null,
   "metadata": {},
   "outputs": [],
   "source": [
    "from scripts import project_functions # This is called a relative import\n",
    "df_assign = project_functions.log(df_lastdate)"
   ]
  },
  {
   "cell_type": "markdown",
   "metadata": {},
   "source": [
    "## EDA Analysis"
   ]
  },
  {
   "cell_type": "markdown",
   "metadata": {},
   "source": [
    "Individuals EDAs are in the analysis directories respectively."
   ]
  },
  {
   "cell_type": "markdown",
   "metadata": {},
   "source": [
    "## Research Question"
   ]
  },
  {
   "cell_type": "markdown",
   "metadata": {},
   "source": [
    "### 1. What categories of videos are people interested to watch? Is it different among the three countries?"
   ]
  },
  {
   "cell_type": "markdown",
   "metadata": {},
   "source": [
    "<img src=\"../../images/Number_of_video by category.png\" width=\"300px\">"
   ]
  },
  {
   "cell_type": "markdown",
   "metadata": {},
   "source": [
    "*The count plot shows that the 'sport', 'entertainment' and 'music' are the three common types of videos that are being published on Youtube.*"
   ]
  },
  {
   "cell_type": "markdown",
   "metadata": {},
   "source": [
    "<img src=\"../../images/Boxplot of view_count.png\" width=\"400px\">"
   ]
  },
  {
   "cell_type": "markdown",
   "metadata": {},
   "source": [
    "*The box plot shows that videos in 'People & Blogs' and 'Science & Technology' categories capture more views than others, indicating that individuals are more interested in watching blog and science videos on Youtube. The videos in ‘Travel & Animals’ and ‘Film & Animation’ attract less interest.*"
   ]
  },
  {
   "cell_type": "markdown",
   "metadata": {},
   "source": [
    "<img src=\"../../images/Views of category by country.png\" width=\"400px\">"
   ]
  },
  {
   "cell_type": "markdown",
   "metadata": {},
   "source": [
    "*Looking into the popularity of video categories in terms of different countries, the violin plot shows that among these three countries, Canadians show the most interest in watching music, gaming, and science videos. Pets & animals videos attract the least views in Great Britain and are more popular in the US. Individuals in Great Britain are more interested in watching music, blog, and gaming videos.*"
   ]
  },
  {
   "cell_type": "markdown",
   "metadata": {},
   "source": [
    "In conclusion, most videos on Youtube were published in the categories of 'sport', 'entertainment' and 'music'. However, according to the findings, individuals are more willing to spend time watching 'People & Blogs' and 'Science & Technology' videos. In addition, the topic of interest is varied between countries as well. "
   ]
  },
  {
   "cell_type": "markdown",
   "metadata": {},
   "source": [
    "### 2. What is the correlation between the number of views, likes, dislikes, and comment?"
   ]
  },
  {
   "cell_type": "markdown",
   "metadata": {},
   "source": [
    "*The statistics are being logged. Natural logs coefficients on the natural-log scale are directly interpretable as approximate proportional differences: with a coefficient of 0.06, a difference of 1 in x corresponds to an approximate 6% difference in y. This can be seen below:*\n"
   ]
  },
  {
   "cell_type": "markdown",
   "metadata": {},
   "source": [
    "<img src=\"../../images/heatmap.png\" width=\"400px\">"
   ]
  },
  {
   "cell_type": "markdown",
   "metadata": {},
   "source": [
    "According to **YouTube**, the **algorithm** is basically a “real-time feedback loop that tailors videos to each viewer's different interests.” It decides which videos will get suggested to individual users. The **algorithm's** goals are twofold: find the right video for each viewer, and get viewers to keep watching."
   ]
  },
  {
   "cell_type": "markdown",
   "metadata": {},
   "source": [
    "*In order to see this in visualization, we can take the correlation coefficient found in the heatmap and apply it to the pair plot below:*"
   ]
  },
  {
   "cell_type": "markdown",
   "metadata": {},
   "source": [
    "<img src=\"../../images/pairplotlog.png\" width=\"400px\">"
   ]
  },
  {
   "cell_type": "markdown",
   "metadata": {},
   "source": [
    "*The distribution is tighter for the correlation between views and likes, this is because the algorithm uses positive quantitative statistics to generate your recommended and utilizes negative quantitative statistics, such as the correlation between dislikes and views suggests, to improve your recommended by utilizing the fact that dislikes are a negative descriptive statistic.*"
   ]
  }
 ],
 "metadata": {
  "kernelspec": {
   "display_name": "Python 3",
   "language": "python",
   "name": "python3"
  },
  "language_info": {
   "codemirror_mode": {
    "name": "ipython",
    "version": 3
   },
   "file_extension": ".py",
   "mimetype": "text/x-python",
   "name": "python",
   "nbconvert_exporter": "python",
   "pygments_lexer": "ipython3",
   "version": "3.8.3"
  }
 },
 "nbformat": 4,
 "nbformat_minor": 4
}

{
 "cells": [
  {
   "cell_type": "markdown",
   "metadata": {},
   "source": [
    "## Load and clean the data"
   ]
  },
  {
   "cell_type": "code",
   "execution_count": 5,
   "metadata": {},
   "outputs": [],
   "source": [
    "data = ['CA','GB','US']\n",
    "\n",
    "from scripts import project_functions # This is called a relative import\n",
    "df = project_functions.load_and_process(data)"
   ]
  },
  {
   "cell_type": "code",
   "execution_count": 8,
   "metadata": {},
   "outputs": [],
   "source": [
    "df.to_csv('Youtube_data.csv', index=False)"
   ]
  },
  {
   "cell_type": "code",
   "execution_count": null,
   "metadata": {},
   "outputs": [],
   "source": [
    "from scripts import project_functions # This is called a relative import\n",
    "df_assign = project_functions.log(df_lastdate)"
   ]
  },
  {
   "cell_type": "markdown",
   "metadata": {},
   "source": [
    "## EDA Analysis"
   ]
  },
  {
   "cell_type": "markdown",
   "metadata": {},
   "source": [
    "Individuals EDAs are in the analysis directories respectively, which can be accessed from the link below:  \n",
    "-[Kristy](https://github.com/data301-2020-winter1/course-project-group_6007b/blob/main/analysis/Kristy/milestone2.ipynb)  \n",
    "-[Nathan](https://github.com/data301-2020-winter1/course-project-group_6007b/blob/main/analysis/Nathan/Milestone2.ipynb)  \n",
    "-[Brendan](https://github.com/data301-2020-winter1/course-project-group_6007b/blob/main/analysis/Brendan/Milestone2.ipynb)  \n"
   ]
  },
  {
   "cell_type": "markdown",
   "metadata": {},
   "source": [
    "## Research Analysis"
   ]
  },
  {
   "cell_type": "markdown",
   "metadata": {},
   "source": [
    "### Motivation"
   ]
  },
  {
   "cell_type": "markdown",
   "metadata": {},
   "source": [
    "People have been spending an increasing amount of time on Youtube videos, especially during the Coronavirus pandemic where people have to stay at home. In the meantime, a lot of people become YouTubers and making money from sharing their videos. Knowing the trend of recent popular youtube topic has become a significant factor when individuals try to explore the interest of society.  \n",
    "\n",
    "In this analysis, we are interesting in what categories of videos are popular on Youtube over time, looking at the view counts of videos in different categories among different countries (US, Great Britain and Canada). In addition, we will also investigate the relationship between views and the characteristics of some attributes(titles, tags, and descriptions) to analyze how a video can attract more views.\n"
   ]
  },
  {
   "cell_type": "markdown",
   "metadata": {},
   "source": [
    "#### Question 1:  What categories of videos are people interested to watch?"
   ]
  },
  {
   "cell_type": "markdown",
   "metadata": {},
   "source": [
    "There are many different types of video that published on Youtube. If one would like to start a new channel, it is very important to know the recent trend of video on Youtube including but not limit to the number of video published in each categories, what categories of video  people are enjoy to watch etc."
   ]
  },
  {
   "cell_type": "markdown",
   "metadata": {},
   "source": [
    "<img src=\"../../images/Number_of_video by category.png\" width=\"300px\">"
   ]
  },
  {
   "cell_type": "markdown",
   "metadata": {},
   "source": [
    "The count plot shows that the 'sport', 'entertainment' and 'music' are the three common types of videos that are being published on Youtube."
   ]
  },
  {
   "cell_type": "markdown",
   "metadata": {},
   "source": [
    "<img src=\"../../images/Boxplot of view_count.png\" width=\"400px\">"
   ]
  },
  {
   "cell_type": "markdown",
   "metadata": {},
   "source": [
    "The box plot shows that videos in 'People & Blogs','news & politics' and 'Science & Technology' categories capture more views than others, indicating that individuals are more interested in watching blog and science videos on Youtube. The videos in ‘Travel & Animals’ and ‘Film & Animation’ attract less interest."
   ]
  },
  {
   "cell_type": "markdown",
   "metadata": {},
   "source": [
    "**In conclusion, most videos on Youtube were published in the categories of 'sport', 'entertainment' and 'music'. However, according to the findings, individuals are more willing to spend time watching 'People & Blogs' 'news & politics' and 'Science & Technology' videos. If people want to post videos on Youtube and attract more views, they should consider to post on 'People & Blogs' and 'Science & Technology' rather than 'sport', 'entertainment' and 'music'**"
   ]
  },
  {
   "cell_type": "markdown",
   "metadata": {},
   "source": [
    "####  Question 2: Are there any differences between the three countries?"
   ]
  },
  {
   "cell_type": "markdown",
   "metadata": {},
   "source": [
    "People from different countries might have different areas of interest, and they might vary from each other. As a result, it is also significant to explore what categories of video individuals are interested in watching in each country."
   ]
  },
  {
   "cell_type": "markdown",
   "metadata": {},
   "source": [
    "<img src=\"../../images/Views of category by country.png\" width=\"400px\">"
   ]
  },
  {
   "cell_type": "markdown",
   "metadata": {},
   "source": [
    "Looking into the popularity of video categories in terms of different countries, the violin plot shows that among these three countries, Canadians show the most interest in watching music, gaming, and science videos. Pets & animals videos attract the least views in Great Britain and are more popular in the US. Individuals in Great Britain are more interested in watching music, blog, and gaming videos."
   ]
  },
  {
   "cell_type": "markdown",
   "metadata": {},
   "source": [
    "####  Question 3: What are the changes in the genre of videos people are watching over time?"
   ]
  },
  {
   "cell_type": "markdown",
   "metadata": {},
   "source": [
    "People's interest change from time to time, so it is also interesting to find out the number of views changes in each genre of video over time."
   ]
  },
  {
   "cell_type": "markdown",
   "metadata": {},
   "source": [
    "<center>Number of Views Change Overtime by Category<center>"
   ]
  },
  {
   "cell_type": "markdown",
   "metadata": {},
   "source": [
    "<center><img src=\"../../images/relplot.png\" width=\"600px\"><center>"
   ]
  },
  {
   "cell_type": "markdown",
   "metadata": {},
   "source": [
    "With regard to the plot of Change over Time of Views in each Category, it can be seen that in categories with more videos there is typically more viewership because users tend to generally keep up with those uploads. \n"
   ]
  },
  {
   "cell_type": "markdown",
   "metadata": {},
   "source": [
    "####  Question 4: Which is the best day to publish a video?"
   ]
  },
  {
   "cell_type": "markdown",
   "metadata": {},
   "source": [
    "From the last question, we can not really find a pattern to suggest how viewership change over time in each category. As a result, we think it might be interesting to analyze the behavior of the viewers and the creators."
   ]
  },
  {
   "cell_type": "markdown",
   "metadata": {},
   "source": [
    "<img src=\"../../images/Each_Day.png\" width=\"300px\">"
   ]
  },
  {
   "cell_type": "markdown",
   "metadata": {},
   "source": [
    "With regards to the plot above, it can be seen that there is more viewership on the videos that are published on weekend days than weekdays. It seems that creators prefer to upload their videos early in the week, however from our analysis, publishing the videos from Sunday to Wednesday might not attract a lot of views. Videos published at the end of the week get more views. \n",
    "\n",
    "**In conclusion, it is suggested that Youtubers should publish their videos on Thursday or Friday to attract more views.**\n"
   ]
  },
  {
   "cell_type": "markdown",
   "metadata": {},
   "source": [
    "#### Question 5: What is the correlation between the number of views, likes, dislikes, and comment?"
   ]
  },
  {
   "cell_type": "markdown",
   "metadata": {},
   "source": [
    "*The statistics are being logged. Natural logs coefficients on the natural-log scale are directly interpretable as approximate proportional differences: with a coefficient of 0.06, a difference of 1 in x corresponds to an approximate 6% difference in y. This can be seen below:*\n"
   ]
  },
  {
   "cell_type": "markdown",
   "metadata": {},
   "source": [
    "<img src=\"../../images/heatmap.png\" width=\"400px\">"
   ]
  },
  {
   "cell_type": "markdown",
   "metadata": {},
   "source": [
    "According to **YouTube**, the **algorithm** is basically a “real-time feedback loop that tailors videos to each viewer's different interests.” It decides which videos will get suggested to individual users. The **algorithm's** goals are twofold: find the right video for each viewer, and get viewers to keep watching."
   ]
  },
  {
   "cell_type": "markdown",
   "metadata": {},
   "source": [
    "*In order to see this in visualization, we can take the correlation coefficient found in the heatmap and apply it to the pair plot below:*"
   ]
  },
  {
   "cell_type": "markdown",
   "metadata": {},
   "source": [
    "<img src=\"../../images/pairplotlog.png\" width=\"400px\">"
   ]
  },
  {
   "cell_type": "markdown",
   "metadata": {},
   "source": [
    "*The distribution is tighter for the correlation between views and likes, this is because the algorithm uses positive quantitative statistics to generate your recommended and utilizes negative quantitative statistics, such as the correlation between dislikes and views suggests, to improve your recommended by utilizing the fact that dislikes are a negative descriptive statistic.*"
   ]
  },
  {
   "cell_type": "markdown",
   "metadata": {},
   "source": [
    "#### Question 6: Is there any connection between titles, tags and view counts?"
   ]
  },
  {
   "cell_type": "markdown",
   "metadata": {},
   "source": [
    "When deciding what to put on the title and tags of the video, we are suspecting that whether long title or more tags will attract more viewers to watch the videos. "
   ]
  },
  {
   "cell_type": "markdown",
   "metadata": {},
   "source": [
    "Below is a plot comparing title length and view count. The $r^{2}$ value for the log of view count vs length of title is 0.0104. It can be seen that there is no significant correlation between the two."
   ]
  },
  {
   "cell_type": "markdown",
   "metadata": {},
   "source": [
    "<img src=\"../../images/titlength.png\" width=\"600px\">"
   ]
  },
  {
   "cell_type": "markdown",
   "metadata": {},
   "source": [
    "The $r^{2}$ value for the log of view count vs the number of tags is 0.0087. The same is true when comparing view counts and number of tags. We would say that there is no relationship between views and the number of tags put."
   ]
  },
  {
   "cell_type": "markdown",
   "metadata": {},
   "source": [
    "<img src=\"../../images/taglength.png\" width=\"600px\">"
   ]
  },
  {
   "cell_type": "markdown",
   "metadata": {},
   "source": [
    "**In conclusion, the coefficient of determination for title length against log views is 0.0104, and for count of tags per video against log views has an even smaller coefficient. This means that it can be definitively said that there is no correlation between length of title, number of tags and views. This being said, the number of tags and length of title has little to no effect on user habits / preferences.**\n"
   ]
  },
  {
   "cell_type": "markdown",
   "metadata": {},
   "source": [
    "We also filter out the 20 most popular tags by total view count to see what tags are popular. Result is shown below:\n",
    "1. BTS, 623706002\n",
    "2. BLACKPINK, 585010211\n",
    "3. 블랙핑크, 575831191\n",
    "4. YG, 569182590\n",
    "5. 와이지, 568699653\n",
    "6. 지수, 568240294\n",
    "7. 리사, 568240294\n",
    "8. 로제, 568240294\n",
    "9. 제니, 568240294\n",
    "10. K-pop, 566729151\n",
    "11. YG Entertainment, 566729151\n",
    "12. Rosé, 527347987\n",
    "13. Jennie, 527347987\n",
    "14. Jisoo, 527347987\n",
    "15. Lisa, 527347987\n",
    "16. 블핑, 527024739\n",
    "17. 블링크, 524162349\n",
    "18. BLINK, 522191847\n",
    "19. 방탄소년단, 480830570\n",
    "20. BANGTAN, 459132651"
   ]
  },
  {
   "cell_type": "markdown",
   "metadata": {},
   "source": [
    "This shows the most popular videos on youtube trending recently are K-pop videos."
   ]
  },
  {
   "cell_type": "markdown",
   "metadata": {},
   "source": [
    "### Conclusion"
   ]
  },
  {
   "cell_type": "markdown",
   "metadata": {},
   "source": [
    "Research shows that from August 2020 to October 2020, 'sport', 'entertainment' and 'music' are the three popular categories that Youtubers prefer to post videos on, while 'People & Blogs' 'news & politics' and 'Science & Technology’ are the three categories that people willing to spend time on. What’s more, the area of interest varies from different countries. When creating a new channel, it is essential to focus on what people’s interests are to attract more views. Besides, publishing time is also a significant factor to attract more views. Our analysis shows that based on Aug. to Oct.'s data, Thursday and Friday are the better days to post videos.  \n",
    "\n",
    "Also, the Youtube algorithm uses positive quantitative statistics to generate recommendations and utilizes negative quantitative statistics, such as the correlation between dislikes and views suggests, to improve your recommended by utilizing the fact that dislikes are a negative descriptive statistic. As a result, having more likes and comments will also attract more views.  \n",
    "\n",
    "Finally, it is shown that the title's length and the total number of tags only have little relationship with views. When Youtubers considering what to put in their title and tags, it does not matter for them to put a long or short one, and they can put any tags that they want as well."
   ]
  }
 ],
 "metadata": {
  "kernelspec": {
   "display_name": "Python 3",
   "language": "python",
   "name": "python3"
  },
  "language_info": {
   "codemirror_mode": {
    "name": "ipython",
    "version": 3
   },
   "file_extension": ".py",
   "mimetype": "text/x-python",
   "name": "python",
   "nbconvert_exporter": "python",
   "pygments_lexer": "ipython3",
   "version": "3.8.3"
  }
 },
 "nbformat": 4,
 "nbformat_minor": 4
}
